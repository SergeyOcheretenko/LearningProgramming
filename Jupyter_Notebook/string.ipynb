{
 "cells": [
  {
   "cell_type": "code",
   "execution_count": 1,
   "id": "4440c273",
   "metadata": {},
   "outputs": [
    {
     "data": {
      "text/plain": [
       "'Elias'"
      ]
     },
     "execution_count": 1,
     "metadata": {},
     "output_type": "execute_result"
    }
   ],
   "source": [
    "'Elias'"
   ]
  },
  {
   "cell_type": "code",
   "execution_count": 2,
   "id": "cd5e2c3c",
   "metadata": {},
   "outputs": [
    {
     "data": {
      "text/plain": [
       "'Elias'"
      ]
     },
     "execution_count": 2,
     "metadata": {},
     "output_type": "execute_result"
    }
   ],
   "source": [
    "\"Elias\""
   ]
  },
  {
   "cell_type": "code",
   "execution_count": 3,
   "id": "d12889a3",
   "metadata": {},
   "outputs": [
    {
     "data": {
      "text/plain": [
       "\"I'm Elias\""
      ]
     },
     "execution_count": 3,
     "metadata": {},
     "output_type": "execute_result"
    }
   ],
   "source": [
    "\"I'm Elias\""
   ]
  },
  {
   "cell_type": "code",
   "execution_count": 4,
   "id": "5340598f",
   "metadata": {},
   "outputs": [
    {
     "data": {
      "text/plain": [
       "'Elias is a \"strong\" programmer'"
      ]
     },
     "execution_count": 4,
     "metadata": {},
     "output_type": "execute_result"
    }
   ],
   "source": [
    "'Elias is a \"strong\" programmer'"
   ]
  },
  {
   "cell_type": "code",
   "execution_count": 12,
   "id": "b82d37c7",
   "metadata": {},
   "outputs": [],
   "source": [
    "text = 'I\\'m Elias and I\\'m a \"strong\" programmer'"
   ]
  },
  {
   "cell_type": "code",
   "execution_count": 10,
   "id": "84476951",
   "metadata": {},
   "outputs": [
    {
     "data": {
      "text/plain": [
       "'I\\'m Elias and I\\'m a \"strong\" programmer'"
      ]
     },
     "execution_count": 10,
     "metadata": {},
     "output_type": "execute_result"
    }
   ],
   "source": [
    "text"
   ]
  },
  {
   "cell_type": "code",
   "execution_count": 11,
   "id": "a5fe1779",
   "metadata": {},
   "outputs": [
    {
     "name": "stdout",
     "output_type": "stream",
     "text": [
      "I'm Elias and I'm a \"strong\" programmer\n"
     ]
    }
   ],
   "source": [
    "print(text)"
   ]
  },
  {
   "cell_type": "code",
   "execution_count": 17,
   "id": "ff9cb154",
   "metadata": {},
   "outputs": [
    {
     "name": "stdout",
     "output_type": "stream",
     "text": [
      "C:\\Users\\new_folder\\new_file.txt\n"
     ]
    }
   ],
   "source": [
    "path = 'C:\\\\Users\\\\new_folder\\\\new_file.txt'\n",
    "print(path)"
   ]
  },
  {
   "cell_type": "code",
   "execution_count": 18,
   "id": "7bda33d0",
   "metadata": {},
   "outputs": [
    {
     "name": "stdout",
     "output_type": "stream",
     "text": [
      "C:\\Users\\new_folder\\file\n"
     ]
    }
   ],
   "source": [
    "print(r'C:\\Users\\new_folder\\file')"
   ]
  },
  {
   "cell_type": "code",
   "execution_count": 19,
   "id": "689c7792",
   "metadata": {},
   "outputs": [
    {
     "name": "stdout",
     "output_type": "stream",
     "text": [
      "I'm Elias and \n",
      "I'm a programmber\n"
     ]
    }
   ],
   "source": [
    "print(\"I'm Elias and \\nI'm a programmber\")"
   ]
  },
  {
   "cell_type": "code",
   "execution_count": 21,
   "id": "eeac3833",
   "metadata": {},
   "outputs": [],
   "source": [
    "hello = str('hello')"
   ]
  },
  {
   "cell_type": "code",
   "execution_count": 33,
   "id": "7b020360",
   "metadata": {},
   "outputs": [
    {
     "name": "stdout",
     "output_type": "stream",
     "text": [
      "12345\n"
     ]
    }
   ],
   "source": [
    "str_from_number = str(12345)\n",
    "print(str_from_number) # convert from number to string"
   ]
  },
  {
   "cell_type": "code",
   "execution_count": 32,
   "id": "b2ea2edd",
   "metadata": {},
   "outputs": [
    {
     "data": {
      "text/plain": [
       "str"
      ]
     },
     "execution_count": 32,
     "metadata": {},
     "output_type": "execute_result"
    }
   ],
   "source": [
    "type(str_from_number) # type of string is 'str'"
   ]
  },
  {
   "cell_type": "code",
   "execution_count": 26,
   "id": "beba1c1e",
   "metadata": {},
   "outputs": [],
   "source": [
    "greeting = 'Hello, my name is Elias'"
   ]
  },
  {
   "cell_type": "code",
   "execution_count": 31,
   "id": "021bcb80",
   "metadata": {},
   "outputs": [
    {
     "data": {
      "text/plain": [
       "'H'"
      ]
     },
     "execution_count": 31,
     "metadata": {},
     "output_type": "execute_result"
    }
   ],
   "source": [
    "greeting[0] # first symbol"
   ]
  },
  {
   "cell_type": "code",
   "execution_count": 28,
   "id": "568b1d3c",
   "metadata": {},
   "outputs": [
    {
     "data": {
      "text/plain": [
       "'l'"
      ]
     },
     "execution_count": 28,
     "metadata": {},
     "output_type": "execute_result"
    }
   ],
   "source": [
    "greeting[3]"
   ]
  },
  {
   "cell_type": "code",
   "execution_count": 29,
   "id": "f2495a08",
   "metadata": {},
   "outputs": [
    {
     "data": {
      "text/plain": [
       "'E'"
      ]
     },
     "execution_count": 29,
     "metadata": {},
     "output_type": "execute_result"
    }
   ],
   "source": [
    "greeting[18]"
   ]
  },
  {
   "cell_type": "code",
   "execution_count": 30,
   "id": "c3a3f6d7",
   "metadata": {},
   "outputs": [
    {
     "data": {
      "text/plain": [
       "'E'"
      ]
     },
     "execution_count": 30,
     "metadata": {},
     "output_type": "execute_result"
    }
   ],
   "source": [
    "greeting[-5] # == greeting[18]"
   ]
  },
  {
   "cell_type": "code",
   "execution_count": 34,
   "id": "d49d64a6",
   "metadata": {},
   "outputs": [
    {
     "ename": "TypeError",
     "evalue": "'str' object does not support item assignment",
     "output_type": "error",
     "traceback": [
      "\u001b[0;31m---------------------------------------------------------------------------\u001b[0m",
      "\u001b[0;31mTypeError\u001b[0m                                 Traceback (most recent call last)",
      "\u001b[0;32m<ipython-input-34-702d7fbb5756>\u001b[0m in \u001b[0;36m<module>\u001b[0;34m\u001b[0m\n\u001b[0;32m----> 1\u001b[0;31m \u001b[0mgreeting\u001b[0m\u001b[0;34m[\u001b[0m\u001b[0;36m0\u001b[0m\u001b[0;34m]\u001b[0m \u001b[0;34m=\u001b[0m \u001b[0;34m'h'\u001b[0m \u001b[0;31m# strings is immutable!!!\u001b[0m\u001b[0;34m\u001b[0m\u001b[0;34m\u001b[0m\u001b[0m\n\u001b[0m",
      "\u001b[0;31mTypeError\u001b[0m: 'str' object does not support item assignment"
     ]
    }
   ],
   "source": [
    "greeting[0] = 'h' # strings is immutable!!!"
   ]
  },
  {
   "cell_type": "code",
   "execution_count": 35,
   "id": "6169aaf4",
   "metadata": {},
   "outputs": [
    {
     "name": "stdout",
     "output_type": "stream",
     "text": [
      "Hello, my name is Elias\n"
     ]
    }
   ],
   "source": [
    "print(greeting)"
   ]
  },
  {
   "cell_type": "code",
   "execution_count": 38,
   "id": "06e38ec0",
   "metadata": {},
   "outputs": [
    {
     "name": "stdout",
     "output_type": "stream",
     "text": [
      "llo, my name is Elias\n",
      "lo, my name is Elias\n"
     ]
    }
   ],
   "source": [
    "print(greeting[2:]) # from 2 to end\n",
    "print(greeting[3:]) # from 3 to end"
   ]
  },
  {
   "cell_type": "code",
   "execution_count": 39,
   "id": "d26e4088",
   "metadata": {},
   "outputs": [
    {
     "data": {
      "text/plain": [
       "'Hel'"
      ]
     },
     "execution_count": 39,
     "metadata": {},
     "output_type": "execute_result"
    }
   ],
   "source": [
    "greeting[0:3] # from 0 to 2"
   ]
  },
  {
   "cell_type": "code",
   "execution_count": 40,
   "id": "ad923fcb",
   "metadata": {},
   "outputs": [
    {
     "data": {
      "text/plain": [
       "'Hlo ynm sEis'"
      ]
     },
     "execution_count": 40,
     "metadata": {},
     "output_type": "execute_result"
    }
   ],
   "source": [
    "greeting[::2]"
   ]
  },
  {
   "cell_type": "code",
   "execution_count": 41,
   "id": "05a9b860",
   "metadata": {},
   "outputs": [
    {
     "data": {
      "text/plain": [
       "'l,m aei la'"
      ]
     },
     "execution_count": 41,
     "metadata": {},
     "output_type": "execute_result"
    }
   ],
   "source": [
    "greeting[3:25:2]"
   ]
  },
  {
   "cell_type": "code",
   "execution_count": 42,
   "id": "368492d4",
   "metadata": {},
   "outputs": [
    {
     "data": {
      "text/plain": [
       "'My name is Elias'"
      ]
     },
     "execution_count": 42,
     "metadata": {},
     "output_type": "execute_result"
    }
   ],
   "source": [
    "\"My name is\" + \" \" + \"Elias\""
   ]
  },
  {
   "cell_type": "code",
   "execution_count": 45,
   "id": "880803c3",
   "metadata": {},
   "outputs": [
    {
     "name": "stdout",
     "output_type": "stream",
     "text": [
      "Hello, world!\n",
      "Hello, world!\n",
      "Hello, world!\n",
      "Hello, world!\n"
     ]
    }
   ],
   "source": [
    "hello = 'Hello'\n",
    "world = 'world'\n",
    "\n",
    "print(hello, world, sep=', ', end='!\\n')\n",
    "print('%s, %s!' %(hello, world))\n",
    "print('{}, {}!'.format(hello, world))\n",
    "print(f'{hello}, {world}!')"
   ]
  },
  {
   "cell_type": "code",
   "execution_count": 47,
   "id": "83172548",
   "metadata": {},
   "outputs": [
    {
     "data": {
      "text/plain": [
       "'aaaaaaa'"
      ]
     },
     "execution_count": 47,
     "metadata": {},
     "output_type": "execute_result"
    }
   ],
   "source": [
    "'a' * 7 # repeat strings"
   ]
  },
  {
   "cell_type": "code",
   "execution_count": 48,
   "id": "fadfa544",
   "metadata": {},
   "outputs": [],
   "source": [
    "# 2 + '3' -> Error!"
   ]
  },
  {
   "cell_type": "code",
   "execution_count": null,
   "id": "9c7ab989",
   "metadata": {},
   "outputs": [],
   "source": []
  }
 ],
 "metadata": {
  "kernelspec": {
   "display_name": "Python 3",
   "language": "python",
   "name": "python3"
  },
  "language_info": {
   "codemirror_mode": {
    "name": "ipython",
    "version": 3
   },
   "file_extension": ".py",
   "mimetype": "text/x-python",
   "name": "python",
   "nbconvert_exporter": "python",
   "pygments_lexer": "ipython3",
   "version": "3.8.8"
  }
 },
 "nbformat": 4,
 "nbformat_minor": 5
}
