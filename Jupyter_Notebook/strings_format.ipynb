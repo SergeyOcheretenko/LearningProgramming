{
 "cells": [
  {
   "cell_type": "code",
   "execution_count": 1,
   "id": "b6fa9940",
   "metadata": {},
   "outputs": [
    {
     "name": "stdout",
     "output_type": "stream",
     "text": [
      "My name is Elias\n"
     ]
    }
   ],
   "source": [
    "print(\"My name is {}\".format(\"Elias\"))"
   ]
  },
  {
   "cell_type": "code",
   "execution_count": 3,
   "id": "2db35e22",
   "metadata": {},
   "outputs": [
    {
     "name": "stdout",
     "output_type": "stream",
     "text": [
      "My name is Elias\n"
     ]
    }
   ],
   "source": [
    "my_name = 'Elias'\n",
    "print(\"My name is {}\".format(my_name))"
   ]
  },
  {
   "cell_type": "code",
   "execution_count": 4,
   "id": "e2a9b5fd",
   "metadata": {},
   "outputs": [
    {
     "name": "stdout",
     "output_type": "stream",
     "text": [
      "My name is Elias and I'm 30\n"
     ]
    }
   ],
   "source": [
    "print(\"My name is {} and I'm {}\".format(\"Elias\", 30))"
   ]
  },
  {
   "cell_type": "code",
   "execution_count": 5,
   "id": "9e162256",
   "metadata": {},
   "outputs": [
    {
     "name": "stdout",
     "output_type": "stream",
     "text": [
      "My name is Elias and I'm 30\n"
     ]
    }
   ],
   "source": [
    "print(\"My name is {0} and I'm {1}\".format(\"Elias\", 30))"
   ]
  },
  {
   "cell_type": "code",
   "execution_count": 6,
   "id": "66c4d558",
   "metadata": {},
   "outputs": [
    {
     "name": "stdout",
     "output_type": "stream",
     "text": [
      "My name is 30 and I'm Elias\n"
     ]
    }
   ],
   "source": [
    "print(\"My name is {1} and I'm {0}\".format(\"Elias\", 30))"
   ]
  },
  {
   "cell_type": "code",
   "execution_count": 7,
   "id": "d314ba0f",
   "metadata": {},
   "outputs": [
    {
     "data": {
      "text/plain": [
       "3.1415"
      ]
     },
     "execution_count": 7,
     "metadata": {},
     "output_type": "execute_result"
    }
   ],
   "source": [
    "pi = 3.1415\n",
    "pi"
   ]
  },
  {
   "cell_type": "code",
   "execution_count": 8,
   "id": "2ddb6b5a",
   "metadata": {},
   "outputs": [
    {
     "name": "stdout",
     "output_type": "stream",
     "text": [
      "Pi quals 3.14\n"
     ]
    }
   ],
   "source": [
    "print(\"Pi quals {pi:1.2f}\".format(pi = pi))"
   ]
  },
  {
   "cell_type": "code",
   "execution_count": 9,
   "id": "c5c8ff87",
   "metadata": {},
   "outputs": [
    {
     "name": "stdout",
     "output_type": "stream",
     "text": [
      "3.14\n"
     ]
    }
   ],
   "source": [
    "print(round(pi, 2))"
   ]
  },
  {
   "cell_type": "code",
   "execution_count": 11,
   "id": "a63d1db7",
   "metadata": {},
   "outputs": [
    {
     "name": "stdout",
     "output_type": "stream",
     "text": [
      "My name is Elias and I'm 30\n"
     ]
    }
   ],
   "source": [
    "name = 'Elias'\n",
    "age = 30\n",
    "print(f'My name is {name} and I\\'m {age}')"
   ]
  },
  {
   "cell_type": "code",
   "execution_count": null,
   "id": "5c9d8747",
   "metadata": {},
   "outputs": [],
   "source": []
  }
 ],
 "metadata": {
  "kernelspec": {
   "display_name": "Python 3",
   "language": "python",
   "name": "python3"
  },
  "language_info": {
   "codemirror_mode": {
    "name": "ipython",
    "version": 3
   },
   "file_extension": ".py",
   "mimetype": "text/x-python",
   "name": "python",
   "nbconvert_exporter": "python",
   "pygments_lexer": "ipython3",
   "version": "3.8.8"
  }
 },
 "nbformat": 4,
 "nbformat_minor": 5
}
