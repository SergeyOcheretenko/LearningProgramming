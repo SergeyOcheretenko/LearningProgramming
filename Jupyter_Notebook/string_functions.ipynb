{
 "cells": [
  {
   "cell_type": "code",
   "execution_count": 1,
   "id": "92200f13",
   "metadata": {},
   "outputs": [],
   "source": [
    "x = 'hello, my name is Elias'"
   ]
  },
  {
   "cell_type": "code",
   "execution_count": 2,
   "id": "f43b96d5",
   "metadata": {},
   "outputs": [
    {
     "data": {
      "text/plain": [
       "23"
      ]
     },
     "execution_count": 2,
     "metadata": {},
     "output_type": "execute_result"
    }
   ],
   "source": [
    "len(x)"
   ]
  },
  {
   "cell_type": "code",
   "execution_count": 4,
   "id": "4cb5f10d",
   "metadata": {},
   "outputs": [
    {
     "data": {
      "text/plain": [
       "'s'"
      ]
     },
     "execution_count": 4,
     "metadata": {},
     "output_type": "execute_result"
    }
   ],
   "source": [
    "x[len(x) - 1]"
   ]
  },
  {
   "cell_type": "code",
   "execution_count": 8,
   "id": "ed15458d",
   "metadata": {},
   "outputs": [
    {
     "data": {
      "text/plain": [
       "3"
      ]
     },
     "execution_count": 8,
     "metadata": {},
     "output_type": "execute_result"
    }
   ],
   "source": [
    "x.count('l') # count -> посчитать количество вхождений подстроки"
   ]
  },
  {
   "cell_type": "code",
   "execution_count": 11,
   "id": "7975a7ae",
   "metadata": {},
   "outputs": [
    {
     "data": {
      "text/plain": [
       "'Hello, my name is elias'"
      ]
     },
     "execution_count": 11,
     "metadata": {},
     "output_type": "execute_result"
    }
   ],
   "source": [
    "x.capitalize() # first letter -> upper, other -> lower"
   ]
  },
  {
   "cell_type": "code",
   "execution_count": 12,
   "id": "61d5abf4",
   "metadata": {},
   "outputs": [
    {
     "name": "stdout",
     "output_type": "stream",
     "text": [
      "HELLO, MY NAME IS ELIAS\n",
      "hello, my name is elias\n"
     ]
    }
   ],
   "source": [
    "print(x.upper())\n",
    "print(x.lower())"
   ]
  },
  {
   "cell_type": "code",
   "execution_count": 13,
   "id": "80870bb5",
   "metadata": {},
   "outputs": [],
   "source": [
    "upper_cased = x.upper()\n",
    "lower_cased = x.lower()"
   ]
  },
  {
   "cell_type": "code",
   "execution_count": 14,
   "id": "44f11c4f",
   "metadata": {},
   "outputs": [
    {
     "name": "stdout",
     "output_type": "stream",
     "text": [
      "hello, my name is Elias\n",
      "HELLO, MY NAME IS ELIAS\n",
      "hello, my name is elias\n"
     ]
    }
   ],
   "source": [
    "print(x)\n",
    "print(upper_cased)\n",
    "print(lower_cased)"
   ]
  },
  {
   "cell_type": "code",
   "execution_count": 15,
   "id": "cf0d6773",
   "metadata": {},
   "outputs": [
    {
     "name": "stdout",
     "output_type": "stream",
     "text": [
      "True\n",
      "True\n",
      "False\n",
      "False\n"
     ]
    }
   ],
   "source": [
    "print(upper_cased.isupper())\n",
    "print(lower_cased.islower())\n",
    "print(x.isupper())\n",
    "print(x.islower())"
   ]
  },
  {
   "cell_type": "code",
   "execution_count": 20,
   "id": "caad1a2d",
   "metadata": {},
   "outputs": [
    {
     "name": "stdout",
     "output_type": "stream",
     "text": [
      "2\n",
      "19\n",
      "-1\n",
      "7\n",
      "12\n"
     ]
    }
   ],
   "source": [
    "print(x.find('l')) # find letter 'l'\n",
    "print(x.find('l', 5)) # find letter 'l' from 5 symbol\n",
    "print(x.find('l', 5, 10)) # find letter 'l' from 5 to 10 symbol\n",
    "print(x.find('m', 7, 15)) # find letter 'm' from 7 to 15 symbol\n",
    "print(x.find('m', 8, 15)) # find letter 'm' from 8 to 15 symbol"
   ]
  },
  {
   "cell_type": "code",
   "execution_count": 21,
   "id": "7b9a2ee4",
   "metadata": {},
   "outputs": [
    {
     "name": "stdout",
     "output_type": "stream",
     "text": [
      "7\n"
     ]
    }
   ],
   "source": [
    "print(x.find('my'))"
   ]
  },
  {
   "cell_type": "code",
   "execution_count": 22,
   "id": "f59d4eba",
   "metadata": {},
   "outputs": [
    {
     "name": "stdout",
     "output_type": "stream",
     "text": [
      "True\n",
      "False\n"
     ]
    }
   ],
   "source": [
    "print('123abc'.isalnum()) # all symbols are letters or numbers\n",
    "print('123abc!'.isalnum())"
   ]
  },
  {
   "cell_type": "code",
   "execution_count": 24,
   "id": "e19e0e5a",
   "metadata": {},
   "outputs": [
    {
     "name": "stdout",
     "output_type": "stream",
     "text": [
      "False\n",
      "True\n"
     ]
    }
   ],
   "source": [
    "print('123abc'.isalpha()) # all symbols are letters\n",
    "print('abc'.isalpha())"
   ]
  },
  {
   "cell_type": "code",
   "execution_count": 26,
   "id": "463f32f1",
   "metadata": {},
   "outputs": [
    {
     "name": "stdout",
     "output_type": "stream",
     "text": [
      "True\n",
      "False\n"
     ]
    }
   ],
   "source": [
    "print(\"   \".isspace()) # string is space or spaces\n",
    "print(\"\".isspace())"
   ]
  },
  {
   "cell_type": "code",
   "execution_count": 27,
   "id": "93b0304c",
   "metadata": {},
   "outputs": [
    {
     "name": "stdout",
     "output_type": "stream",
     "text": [
      "True\n"
     ]
    }
   ],
   "source": [
    "empty_string = \"\"\n",
    "print(empty_string == \"\")"
   ]
  },
  {
   "cell_type": "code",
   "execution_count": 29,
   "id": "ccf1999e",
   "metadata": {},
   "outputs": [
    {
     "name": "stdout",
     "output_type": "stream",
     "text": [
      "True\n"
     ]
    }
   ],
   "source": [
    "empty_string = \"   \"\n",
    "print(empty_string.strip(' ') == \"\")"
   ]
  },
  {
   "cell_type": "code",
   "execution_count": 34,
   "id": "cf4f9005",
   "metadata": {},
   "outputs": [
    {
     "name": "stdout",
     "output_type": "stream",
     "text": [
      "not empty\n"
     ]
    }
   ],
   "source": [
    "empty_string = 'abc'\n",
    "if empty_string:\n",
    "    print('not empty')\n",
    "else:\n",
    "    print('empty')"
   ]
  },
  {
   "cell_type": "code",
   "execution_count": 35,
   "id": "ef349d1b",
   "metadata": {},
   "outputs": [
    {
     "name": "stdout",
     "output_type": "stream",
     "text": [
      "True\n",
      "True\n"
     ]
    }
   ],
   "source": [
    "h = 'hello'\n",
    "print(h.startswith('he'))\n",
    "print(h.endswith('lo'))"
   ]
  },
  {
   "cell_type": "code",
   "execution_count": 37,
   "id": "42a33d86",
   "metadata": {},
   "outputs": [
    {
     "name": "stdout",
     "output_type": "stream",
     "text": [
      "<class 'list'>\n",
      "['he', '', 'o']\n",
      "['h', 'llo']\n"
     ]
    }
   ],
   "source": [
    "split = h.split('l')\n",
    "print(type(split))\n",
    "print(split)\n",
    "\n",
    "split = h.split('e')\n",
    "print(split)"
   ]
  },
  {
   "cell_type": "code",
   "execution_count": 38,
   "id": "037f52c5",
   "metadata": {},
   "outputs": [
    {
     "name": "stdout",
     "output_type": "stream",
     "text": [
      "['12', '10', '8', '10']\n"
     ]
    }
   ],
   "source": [
    "data = \"12;10;8;10\"\n",
    "separated_data = data.split(';')\n",
    "print(separated_data)"
   ]
  },
  {
   "cell_type": "code",
   "execution_count": 1,
   "id": "959fd24c",
   "metadata": {},
   "outputs": [
    {
     "name": "stdout",
     "output_type": "stream",
     "text": [
      "('Python ', 'is ', 'fun')\n",
      "('Python is fun', '', '')\n",
      "('Python ', 'is', \" fun, isn't it\")\n"
     ]
    }
   ],
   "source": [
    "python = 'Python is fun'\n",
    "\n",
    "print(python.partition('is '))\n",
    "print(python.partition('not '))\n",
    "\n",
    "python = 'Python is fun, isn\\'t it'\n",
    "print(python.partition('is'))"
   ]
  },
  {
   "cell_type": "code",
   "execution_count": null,
   "id": "9f541644",
   "metadata": {},
   "outputs": [],
   "source": []
  }
 ],
 "metadata": {
  "kernelspec": {
   "display_name": "Python 3",
   "language": "python",
   "name": "python3"
  },
  "language_info": {
   "codemirror_mode": {
    "name": "ipython",
    "version": 3
   },
   "file_extension": ".py",
   "mimetype": "text/x-python",
   "name": "python",
   "nbconvert_exporter": "python",
   "pygments_lexer": "ipython3",
   "version": "3.8.8"
  }
 },
 "nbformat": 4,
 "nbformat_minor": 5
}
